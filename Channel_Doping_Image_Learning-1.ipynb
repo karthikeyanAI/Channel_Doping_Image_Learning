{
  "cells": [
    {
      "cell_type": "markdown",
      "metadata": {
        "id": "view-in-github",
        "colab_type": "text"
      },
      "source": [
        "<a href=\"https://colab.research.google.com/github/karthikeyanAI/Channel_Doping_Image_Learning/blob/main/Channel_Doping_Image_Learning-1.ipynb\" target=\"_parent\"><img src=\"https://colab.research.google.com/assets/colab-badge.svg\" alt=\"Open In Colab\"/></a>"
      ]
    },
    {
      "cell_type": "code",
      "execution_count": null,
      "metadata": {
        "id": "nl7vue60uCOQ"
      },
      "outputs": [],
      "source": [
        "import numpy as np\n",
        "import pandas as pd\n",
        "import matplotlib.pyplot as plt"
      ]
    },
    {
      "cell_type": "markdown",
      "metadata": {
        "id": "W1dYkQcYuCOR"
      },
      "source": [
        "### Implant profile function"
      ]
    },
    {
      "cell_type": "code",
      "execution_count": null,
      "metadata": {
        "id": "0zlqauhjuCOS"
      },
      "outputs": [],
      "source": [
        "def implant_profile(xmin=0,xmax=5,Cp=1.0e17,Rp=0.5):\n",
        "    x = np.arange(xmin,xmax,0.01)\n",
        "    net_doping = Cp*np.exp((-(x-Rp)**2)/(2*Rp**2))\n",
        "    return (net_doping)"
      ]
    },
    {
      "cell_type": "markdown",
      "metadata": {
        "id": "lSh3HAYYuCOT"
      },
      "source": [
        "### Epi doping function"
      ]
    },
    {
      "cell_type": "code",
      "execution_count": null,
      "metadata": {
        "id": "Y1UWyWF-uCOT"
      },
      "outputs": [],
      "source": [
        "def epi_doping(baseline=1e16,xmin=0,xmax=5,slope=0.2):\n",
        "     x = np.arange(xmin,xmax,0.01)\n",
        "     epi_doping = baseline+slope*x*baseline\n",
        "     return (epi_doping)"
      ]
    },
    {
      "cell_type": "code",
      "execution_count": null,
      "metadata": {
        "id": "6P8wHQzcuCOT"
      },
      "outputs": [],
      "source": []
    },
    {
      "cell_type": "code",
      "execution_count": null,
      "metadata": {
        "id": "E6OEfVgvuCOT"
      },
      "outputs": [],
      "source": [
        "def net_doping(As_doping,B_doping,Phos_doping):\n",
        "    net_doping = np.abs(As_doping - Boron_doping+Phos_doping)\n",
        "    return (net_doping)"
      ]
    },
    {
      "cell_type": "markdown",
      "metadata": {
        "id": "OTwiWfoCuCOU"
      },
      "source": [
        "### Plot function"
      ]
    },
    {
      "cell_type": "code",
      "execution_count": null,
      "metadata": {
        "id": "hd8A82vEuCOU"
      },
      "outputs": [],
      "source": [
        "def plot_doping(net_doping,xmin=0,xmax=5):\n",
        "    x = np.arange(xmin,xmax,0.01)\n",
        "\n",
        "    plt.figure(figsize=(6,4),dpi=90)\n",
        "    plt.semilogy(x,net_doping,lw=3,c='k')\n",
        "    plt.xlim(xmin,xmax*1.1)\n",
        "    plt.ylim(1.0e14,1e20)\n",
        "    plt.grid(True)\n",
        "    plt.xlabel(\"X-distance ($\\mu$m)\",fontsize=12)\n",
        "    plt.ylabel(\"Net doping ($C/{cm}^3$)\",fontsize=12)\n",
        "    plt.show()"
      ]
    },
    {
      "cell_type": "markdown",
      "metadata": {
        "id": "czARf6tmuCOU"
      },
      "source": [
        "### Plot saving"
      ]
    },
    {
      "cell_type": "code",
      "execution_count": null,
      "metadata": {
        "id": "wYHwuc3buCOU"
      },
      "outputs": [],
      "source": [
        "def plot_saving(net_doping,xmin=0,xmax=5):\n",
        "    x = np.arange(xmin,xmax,0.01)\n",
        "\n",
        "    plt.figure(figsize=(5,5))\n",
        "    plt.semilogy(x,net_doping,lw=3,c='k')\n",
        "    plt.xlim(xmin,xmax*1.1)\n",
        "    plt.ylim(1.0e14,1e20)"
      ]
    },
    {
      "cell_type": "markdown",
      "metadata": {
        "id": "YbWJylnluCOV"
      },
      "source": [
        "### Doping profile evaluation function"
      ]
    },
    {
      "cell_type": "code",
      "execution_count": null,
      "metadata": {
        "id": "qfbSnPkkuCOV"
      },
      "outputs": [],
      "source": [
        "def evaluate_doping(doping):\n",
        "    from scipy.signal import argrelextrema\n",
        "\n",
        "    l = len(doping)\n",
        "    src_junction=0\n",
        "    body_junction=0\n",
        "\n",
        "    a = argrelextrema(doping,np.less) # Returns a Tuple of ndarrays (indices of extrema)\n",
        "    b=a[0] # Extract the ndarray\n",
        "\n",
        "    if len(b)<2:\n",
        "        print(\"No channel found! Source doping too high relative to P-well doping!\")\n",
        "    else:\n",
        "        x1=b[0]\n",
        "        x2=b[1]\n",
        "        src_junction=round((x1*0.01),3)\n",
        "        body_junction=round((x2*0.01),3)\n",
        "\n",
        "        if (body_junction-src_junction)<=0.3:\n",
        "            print(f\"Source junction at {src_junction}. P-well junction at {body_junction}. Short channel\")\n",
        "        elif 0.3<(body_junction-src_junction)<=0.6:\n",
        "            print(f\"Source junction at {src_junction}. P-well junction at {body_junction}. Right channel length\")\n",
        "        else:\n",
        "            print(f\"Source junction at {src_junction}. P-well junction at {body_junction}. Long channel\")"
      ]
    },
    {
      "cell_type": "markdown",
      "metadata": {
        "id": "OdMR9KaeuCOV"
      },
      "source": [
        "### Doping profile labeler function"
      ]
    },
    {
      "cell_type": "code",
      "execution_count": null,
      "metadata": {
        "id": "fRHfWR19uCOV"
      },
      "outputs": [],
      "source": [
        "def label_doping(doping):\n",
        "    from scipy.signal import argrelextrema\n",
        "\n",
        "    l = len(doping)\n",
        "    src_junction=0\n",
        "    body_junction=0\n",
        "\n",
        "    a = argrelextrema(doping,np.less) # Returns a Tuple of ndarrays (indices of extrema)\n",
        "    b=a[0] # Extract the ndarray\n",
        "\n",
        "    if len(b)<2:\n",
        "        return (\"No channel\")\n",
        "    else:\n",
        "        x1=b[0]\n",
        "        x2=b[1]\n",
        "        src_junction=round((x1*0.01),3)\n",
        "        body_junction=round((x2*0.01),3)\n",
        "\n",
        "        if (body_junction-src_junction)<=0.3:\n",
        "            return (\"Short channel\")\n",
        "        elif 0.3<(body_junction-src_junction)<=0.6:\n",
        "            return (\"Optimum channel\")\n",
        "        else:\n",
        "            return (\"Long channel\")"
      ]
    },
    {
      "cell_type": "markdown",
      "metadata": {
        "id": "GXIeQcXfuCOV"
      },
      "source": [
        "### Doping profile classifier function"
      ]
    },
    {
      "cell_type": "code",
      "execution_count": null,
      "metadata": {
        "id": "1szexnN9uCOW"
      },
      "outputs": [],
      "source": [
        "def classifier_doping(doping):\n",
        "    from scipy.signal import argrelextrema\n",
        "\n",
        "    l = len(doping)\n",
        "    src_junction=0\n",
        "    body_junction=0\n",
        "\n",
        "    a = argrelextrema(doping,np.less) # Returns a Tuple of ndarrays (indices of extrema)\n",
        "    b=a[0] # Extract the ndarray\n",
        "\n",
        "    if len(b)<2:\n",
        "        return (0)\n",
        "    else:\n",
        "        x1=b[0]\n",
        "        x2=b[1]\n",
        "        src_junction=round((x1*0.01),3)\n",
        "        body_junction=round((x2*0.01),3)\n",
        "\n",
        "        if (body_junction-src_junction)<=0.3:\n",
        "            return (1)\n",
        "        elif 0.3<(body_junction-src_junction)<=0.6:\n",
        "            return (2)\n",
        "        else:\n",
        "            return (3)"
      ]
    },
    {
      "cell_type": "markdown",
      "metadata": {
        "id": "1VOxxTUDuCOW"
      },
      "source": [
        "### Implants and epi doping"
      ]
    },
    {
      "cell_type": "code",
      "execution_count": null,
      "metadata": {
        "id": "4Ut5NRRouCOW"
      },
      "outputs": [],
      "source": [
        "# Implants and epi doping\n",
        "As_doping=implant_profile(Cp=5e19,Rp=0.25,xmin=0,xmax=5)\n",
        "Boron_doping=implant_profile(Cp=4e17,Rp=0.4,xmin=0,xmax=5)\n",
        "Phos_doping = epi_doping(xmin=0,xmax=5,slope=0.2,baseline=1e16)\n",
        "\n",
        "# Net doping\n",
        "Net_doping = np.abs(As_doping - Boron_doping+Phos_doping)"
      ]
    },
    {
      "cell_type": "markdown",
      "metadata": {
        "id": "48Q3TkN5uCOW"
      },
      "source": [
        "### Plot"
      ]
    },
    {
      "cell_type": "code",
      "execution_count": null,
      "metadata": {
        "id": "nPcZO7MtuCOW",
        "outputId": "d8f32705-876c-4869-afcd-48dbbba0cf50"
      },
      "outputs": [
        {
          "data": {
            "image/png": "[encoded data removed]",
            "text/plain": [
              "<Figure size 540x360 with 1 Axes>"
            ]
          },
          "metadata": {},
          "output_type": "display_data"
        }
      ],
      "source": [
        "plot_doping(Net_doping,xmin=0,xmax=5)"
      ]
    },
    {
      "cell_type": "code",
      "execution_count": null,
      "metadata": {
        "id": "f4TX4XumuCOX",
        "outputId": "a8cc7d6b-f0d3-4d85-9148-24b6b19f806e"
      },
      "outputs": [
        {
          "name": "stdout",
          "output_type": "stream",
          "text": [
            "Source junction at 1.19. P-well junction at 1.44. Short channel\n"
          ]
        }
      ],
      "source": [
        "evaluate_doping(Net_doping)"
      ]
    },
    {
      "cell_type": "markdown",
      "metadata": {
        "id": "Hp9BZptouCOX"
      },
      "source": [
        "### Random generation of doping profiles"
      ]
    },
    {
      "cell_type": "code",
      "execution_count": null,
      "metadata": {
        "id": "L3JIVAYfuCOX"
      },
      "outputs": [],
      "source": [
        "num_samples=500"
      ]
    },
    {
      "cell_type": "code",
      "execution_count": null,
      "metadata": {
        "id": "UBZHWTGMuCOX",
        "outputId": "0fe741bb-ecab-4eea-f99f-8857f6bea8a1"
      },
      "outputs": [
        {
          "data": {
            "text/html": [
              "<div>\n",
              "<style scoped>\n",
              "    .dataframe tbody tr th:only-of-type {\n",
              "        vertical-align: middle;\n",
              "    }\n",
              "\n",
              "    .dataframe tbody tr th {\n",
              "        vertical-align: top;\n",
              "    }\n",
              "\n",
              "    .dataframe thead th {\n",
              "        text-align: right;\n",
              "    }\n",
              "</style>\n",
              "<table border=\"1\" class=\"dataframe\">\n",
              "  <thead>\n",
              "    <tr style=\"text-align: right;\">\n",
              "      <th></th>\n",
              "      <th>As_Cp</th>\n",
              "      <th>Boron_Cp</th>\n",
              "      <th>As_Rp</th>\n",
              "      <th>Boron_Rp</th>\n",
              "      <th>Phos_baseline</th>\n",
              "    </tr>\n",
              "  </thead>\n",
              "  <tbody>\n",
              "    <tr>\n",
              "      <th>0</th>\n",
              "      <td>1.395899e+19</td>\n",
              "      <td>2.082950e+17</td>\n",
              "      <td>0.136402</td>\n",
              "      <td>0.268617</td>\n",
              "      <td>4.373595e+16</td>\n",
              "    </tr>\n",
              "    <tr>\n",
              "      <th>1</th>\n",
              "      <td>1.364159e+19</td>\n",
              "      <td>1.828547e+15</td>\n",
              "      <td>0.243111</td>\n",
              "      <td>0.205193</td>\n",
              "      <td>4.854297e+16</td>\n",
              "    </tr>\n",
              "    <tr>\n",
              "      <th>2</th>\n",
              "      <td>1.548481e+19</td>\n",
              "      <td>2.263478e+17</td>\n",
              "      <td>0.222164</td>\n",
              "      <td>0.351547</td>\n",
              "      <td>4.978666e+16</td>\n",
              "    </tr>\n",
              "    <tr>\n",
              "      <th>3</th>\n",
              "      <td>2.676584e+19</td>\n",
              "      <td>3.441659e+17</td>\n",
              "      <td>0.290959</td>\n",
              "      <td>0.281145</td>\n",
              "      <td>4.836617e+16</td>\n",
              "    </tr>\n",
              "    <tr>\n",
              "      <th>4</th>\n",
              "      <td>1.408925e+19</td>\n",
              "      <td>1.781958e+17</td>\n",
              "      <td>0.102046</td>\n",
              "      <td>0.272860</td>\n",
              "      <td>4.405467e+16</td>\n",
              "    </tr>\n",
              "    <tr>\n",
              "      <th>5</th>\n",
              "      <td>1.905287e+19</td>\n",
              "      <td>7.122593e+16</td>\n",
              "      <td>0.184817</td>\n",
              "      <td>0.339326</td>\n",
              "      <td>4.561532e+16</td>\n",
              "    </tr>\n",
              "    <tr>\n",
              "      <th>6</th>\n",
              "      <td>9.244743e+18</td>\n",
              "      <td>2.362370e+17</td>\n",
              "      <td>0.239438</td>\n",
              "      <td>0.261883</td>\n",
              "      <td>4.397476e+16</td>\n",
              "    </tr>\n",
              "    <tr>\n",
              "      <th>7</th>\n",
              "      <td>2.519575e+19</td>\n",
              "      <td>3.013780e+17</td>\n",
              "      <td>0.213401</td>\n",
              "      <td>0.154782</td>\n",
              "      <td>4.303301e+16</td>\n",
              "    </tr>\n",
              "    <tr>\n",
              "      <th>8</th>\n",
              "      <td>1.431475e+19</td>\n",
              "      <td>5.053879e+16</td>\n",
              "      <td>0.218840</td>\n",
              "      <td>0.155330</td>\n",
              "      <td>4.961149e+16</td>\n",
              "    </tr>\n",
              "    <tr>\n",
              "      <th>9</th>\n",
              "      <td>2.154779e+18</td>\n",
              "      <td>2.621109e+17</td>\n",
              "      <td>0.163700</td>\n",
              "      <td>0.208871</td>\n",
              "      <td>4.983698e+16</td>\n",
              "    </tr>\n",
              "  </tbody>\n",
              "</table>\n",
              "</div>"
            ],
            "text/plain": [
              "          As_Cp      Boron_Cp     As_Rp  Boron_Rp  Phos_baseline\n",
              "0  1.395899e+19  2.082950e+17  0.136402  0.268617   4.373595e+16\n",
              "1  1.364159e+19  1.828547e+15  0.243111  0.205193   4.854297e+16\n",
              "2  1.548481e+19  2.263478e+17  0.222164  0.351547   4.978666e+16\n",
              "3  2.676584e+19  3.441659e+17  0.290959  0.281145   4.836617e+16\n",
              "4  1.408925e+19  1.781958e+17  0.102046  0.272860   4.405467e+16\n",
              "5  1.905287e+19  7.122593e+16  0.184817  0.339326   4.561532e+16\n",
              "6  9.244743e+18  2.362370e+17  0.239438  0.261883   4.397476e+16\n",
              "7  2.519575e+19  3.013780e+17  0.213401  0.154782   4.303301e+16\n",
              "8  1.431475e+19  5.053879e+16  0.218840  0.155330   4.961149e+16\n",
              "9  2.154779e+18  2.621109e+17  0.163700  0.208871   4.983698e+16"
            ]
          },
          "execution_count": 81,
          "metadata": {},
          "output_type": "execute_result"
        }
      ],
      "source": [
        "As_Cp=np.random.random(size=num_samples)*3e19\n",
        "Boron_Cp=np.random.random(size=num_samples)*4e17\n",
        "As_Rp=0.1+np.random.random(size=num_samples)*0.2\n",
        "Boron_Rp=0.15+np.random.random(size=num_samples)*0.25\n",
        "Phos_baseline=4e16+np.random.random(size=num_samples)*1e16\n",
        "\n",
        "df = pd.DataFrame([As_Cp,Boron_Cp,As_Rp,Boron_Rp,Phos_baseline])\n",
        "df=df.transpose()\n",
        "df.columns=['As_Cp','Boron_Cp','As_Rp','Boron_Rp','Phos_baseline']\n",
        "df.head(10)"
      ]
    },
    {
      "cell_type": "code",
      "execution_count": null,
      "metadata": {
        "id": "jfGuLsSMuCOX"
      },
      "outputs": [],
      "source": [
        "def channel_labels(a,b,c,d,e):\n",
        "    x=net_doping(As_doping=implant_profile(Cp=a,Rp=b),\n",
        "                 B_doping=implant_profile(Cp=c,Rp=d),\n",
        "                 Phos_doping=epi_doping(baseline=e))\n",
        "    y=label_doping(x)\n",
        "    return (y)"
      ]
    },
    {
      "cell_type": "code",
      "execution_count": null,
      "metadata": {
        "id": "BiN8Iqj8uCOX"
      },
      "outputs": [],
      "source": [
        "def channel_classes(a,b,c,d,e):\n",
        "    x=net_doping(As_doping=implant_profile(Cp=a,Rp=b),\n",
        "                 B_doping=implant_profile(Cp=c,Rp=d),\n",
        "                 Phos_doping=epi_doping(baseline=e))\n",
        "    y=classifier_doping(x)\n",
        "    return (y)"
      ]
    },
    {
      "cell_type": "code",
      "execution_count": null,
      "metadata": {
        "id": "VzhYkMukuCOZ"
      },
      "outputs": [],
      "source": [
        "channels=[]\n",
        "for i in range(df.shape[0]):\n",
        "    channels.append(channel_labels(df.iloc[i]['As_Cp'],df.iloc[i]['As_Rp'],df.iloc[i]['Boron_Cp'],\n",
        "         df.iloc[i]['Boron_Rp'],df.iloc[i]['Phos_baseline']))"
      ]
    },
    {
      "cell_type": "code",
      "execution_count": null,
      "metadata": {
        "id": "_37_Lsw-uCOZ"
      },
      "outputs": [],
      "source": [
        "channel_class=[]\n",
        "for i in range(df.shape[0]):\n",
        "    channel_class.append(channel_classes(df.iloc[i]['As_Cp'],df.iloc[i]['As_Rp'],df.iloc[i]['Boron_Cp'],\n",
        "         df.iloc[i]['Boron_Rp'],df.iloc[i]['Phos_baseline']))"
      ]
    },
    {
      "cell_type": "code",
      "execution_count": null,
      "metadata": {
        "id": "sc_oTpgZuCOZ"
      },
      "outputs": [],
      "source": [
        "df['Channel']=channels\n",
        "df['Channel_class']=channel_class"
      ]
    },
    {
      "cell_type": "code",
      "execution_count": null,
      "metadata": {
        "id": "_dWP3mVguCOZ"
      },
      "outputs": [],
      "source": [
        "def net_profiles(a,b,c,d,e):\n",
        "    x=net_doping(As_doping=implant_profile(Cp=a,Rp=b),\n",
        "                 B_doping=implant_profile(Cp=c,Rp=d),\n",
        "                 Phos_doping=epi_doping(baseline=e))\n",
        "    return (x)"
      ]
    },
    {
      "cell_type": "code",
      "execution_count": null,
      "metadata": {
        "id": "0XGkHqvVuCOZ"
      },
      "outputs": [],
      "source": [
        "net_profile=[]\n",
        "for i in range(df.shape[0]):\n",
        "    net_profile.append(net_profiles(df.iloc[i]['As_Cp'],df.iloc[i]['As_Rp'],df.iloc[i]['Boron_Cp'],\n",
        "         df.iloc[i]['Boron_Rp'],df.iloc[i]['Phos_baseline']))"
      ]
    },
    {
      "cell_type": "code",
      "execution_count": null,
      "metadata": {
        "id": "Sp9A-edAuCOZ"
      },
      "outputs": [],
      "source": [
        "df['Net_dopings']=net_profile"
      ]
    },
    {
      "cell_type": "code",
      "execution_count": null,
      "metadata": {
        "id": "TVgvHcn2uCOZ",
        "outputId": "62c708b5-3b08-4df7-91ca-297302dd4ffa"
      },
      "outputs": [
        {
          "data": {
            "text/html": [
              "<div>\n",
              "<style scoped>\n",
              "    .dataframe tbody tr th:only-of-type {\n",
              "        vertical-align: middle;\n",
              "    }\n",
              "\n",
              "    .dataframe tbody tr th {\n",
              "        vertical-align: top;\n",
              "    }\n",
              "\n",
              "    .dataframe thead th {\n",
              "        text-align: right;\n",
              "    }\n",
              "</style>\n",
              "<table border=\"1\" class=\"dataframe\">\n",
              "  <thead>\n",
              "    <tr style=\"text-align: right;\">\n",
              "      <th></th>\n",
              "      <th>As_Cp</th>\n",
              "      <th>Boron_Cp</th>\n",
              "      <th>As_Rp</th>\n",
              "      <th>Boron_Rp</th>\n",
              "      <th>Phos_baseline</th>\n",
              "      <th>Channel</th>\n",
              "      <th>Channel_class</th>\n",
              "      <th>Net_dopings</th>\n",
              "    </tr>\n",
              "  </thead>\n",
              "  <tbody>\n",
              "    <tr>\n",
              "      <th>0</th>\n",
              "      <td>1.395899e+19</td>\n",
              "      <td>2.082950e+17</td>\n",
              "      <td>0.136402</td>\n",
              "      <td>0.268617</td>\n",
              "      <td>4.373595e+16</td>\n",
              "      <td>Long channel</td>\n",
              "      <td>3</td>\n",
              "      <td>[8.267680138200794e+18, 8.881280391684274e+18,...</td>\n",
              "    </tr>\n",
              "    <tr>\n",
              "      <th>1</th>\n",
              "      <td>1.364159e+19</td>\n",
              "      <td>1.828547e+15</td>\n",
              "      <td>0.243111</td>\n",
              "      <td>0.205193</td>\n",
              "      <td>4.854297e+16</td>\n",
              "      <td>No channel</td>\n",
              "      <td>0</td>\n",
              "      <td>[8.079974380803838e+18, 8.414153674865833e+18,...</td>\n",
              "    </tr>\n",
              "    <tr>\n",
              "      <th>2</th>\n",
              "      <td>1.548481e+19</td>\n",
              "      <td>2.263478e+17</td>\n",
              "      <td>0.222164</td>\n",
              "      <td>0.351547</td>\n",
              "      <td>4.978666e+16</td>\n",
              "      <td>Short channel</td>\n",
              "      <td>1</td>\n",
              "      <td>[9.199188535196488e+18, 9.615686731687586e+18,...</td>\n",
              "    </tr>\n",
              "    <tr>\n",
              "      <th>3</th>\n",
              "      <td>2.676584e+19</td>\n",
              "      <td>3.441659e+17</td>\n",
              "      <td>0.290959</td>\n",
              "      <td>0.281145</td>\n",
              "      <td>4.836617e+16</td>\n",
              "      <td>No channel</td>\n",
              "      <td>0</td>\n",
              "      <td>[1.6040056036103498e+19, 1.659182473789193e+19...</td>\n",
              "    </tr>\n",
              "    <tr>\n",
              "      <th>4</th>\n",
              "      <td>1.408925e+19</td>\n",
              "      <td>1.781958e+17</td>\n",
              "      <td>0.102046</td>\n",
              "      <td>0.272860</td>\n",
              "      <td>4.405467e+16</td>\n",
              "      <td>Long channel</td>\n",
              "      <td>3</td>\n",
              "      <td>[8.347006541962214e+18, 9.175712594758999e+18,...</td>\n",
              "    </tr>\n",
              "    <tr>\n",
              "      <th>5</th>\n",
              "      <td>1.905287e+19</td>\n",
              "      <td>7.122593e+16</td>\n",
              "      <td>0.184817</td>\n",
              "      <td>0.339326</td>\n",
              "      <td>4.561532e+16</td>\n",
              "      <td>Optimum channel</td>\n",
              "      <td>2</td>\n",
              "      <td>[1.1359153403657826e+19, 1.1977836915185854e+1...</td>\n",
              "    </tr>\n",
              "    <tr>\n",
              "      <th>6</th>\n",
              "      <td>9.244743e+18</td>\n",
              "      <td>2.362370e+17</td>\n",
              "      <td>0.239438</td>\n",
              "      <td>0.261883</td>\n",
              "      <td>4.397476e+16</td>\n",
              "      <td>Short channel</td>\n",
              "      <td>1</td>\n",
              "      <td>[5.408582514156641e+18, 5.636651800625133e+18,...</td>\n",
              "    </tr>\n",
              "    <tr>\n",
              "      <th>7</th>\n",
              "      <td>2.519575e+19</td>\n",
              "      <td>3.013780e+17</td>\n",
              "      <td>0.213401</td>\n",
              "      <td>0.154782</td>\n",
              "      <td>4.303301e+16</td>\n",
              "      <td>Short channel</td>\n",
              "      <td>1</td>\n",
              "      <td>[1.5082413086759107e+19, 1.5792020581521512e+1...</td>\n",
              "    </tr>\n",
              "    <tr>\n",
              "      <th>8</th>\n",
              "      <td>1.431475e+19</td>\n",
              "      <td>5.053879e+16</td>\n",
              "      <td>0.218840</td>\n",
              "      <td>0.155330</td>\n",
              "      <td>4.961149e+16</td>\n",
              "      <td>Short channel</td>\n",
              "      <td>1</td>\n",
              "      <td>[8.489333310764198e+18, 8.879832423179944e+18,...</td>\n",
              "    </tr>\n",
              "    <tr>\n",
              "      <th>9</th>\n",
              "      <td>2.154779e+18</td>\n",
              "      <td>2.621109e+17</td>\n",
              "      <td>0.163700</td>\n",
              "      <td>0.208871</td>\n",
              "      <td>4.983698e+16</td>\n",
              "      <td>Long channel</td>\n",
              "      <td>3</td>\n",
              "      <td>[1.1141642958391404e+18, 1.187936733350747e+18...</td>\n",
              "    </tr>\n",
              "  </tbody>\n",
              "</table>\n",
              "</div>"
            ],
            "text/plain": [
              "          As_Cp      Boron_Cp     As_Rp  Boron_Rp  Phos_baseline  \\\n",
              "0  1.395899e+19  2.082950e+17  0.136402  0.268617   4.373595e+16   \n",
              "1  1.364159e+19  1.828547e+15  0.243111  0.205193   4.854297e+16   \n",
              "2  1.548481e+19  2.263478e+17  0.222164  0.351547   4.978666e+16   \n",
              "3  2.676584e+19  3.441659e+17  0.290959  0.281145   4.836617e+16   \n",
              "4  1.408925e+19  1.781958e+17  0.102046  0.272860   4.405467e+16   \n",
              "5  1.905287e+19  7.122593e+16  0.184817  0.339326   4.561532e+16   \n",
              "6  9.244743e+18  2.362370e+17  0.239438  0.261883   4.397476e+16   \n",
              "7  2.519575e+19  3.013780e+17  0.213401  0.154782   4.303301e+16   \n",
              "8  1.431475e+19  5.053879e+16  0.218840  0.155330   4.961149e+16   \n",
              "9  2.154779e+18  2.621109e+17  0.163700  0.208871   4.983698e+16   \n",
              "\n",
              "           Channel  Channel_class  \\\n",
              "0     Long channel              3   \n",
              "1       No channel              0   \n",
              "2    Short channel              1   \n",
              "3       No channel              0   \n",
              "4     Long channel              3   \n",
              "5  Optimum channel              2   \n",
              "6    Short channel              1   \n",
              "7    Short channel              1   \n",
              "8    Short channel              1   \n",
              "9     Long channel              3   \n",
              "\n",
              "                                         Net_dopings  \n",
              "0  [8.267680138200794e+18, 8.881280391684274e+18,...  \n",
              "1  [8.079974380803838e+18, 8.414153674865833e+18,...  \n",
              "2  [9.199188535196488e+18, 9.615686731687586e+18,...  \n",
              "3  [1.6040056036103498e+19, 1.659182473789193e+19...  \n",
              "4  [8.347006541962214e+18, 9.175712594758999e+18,...  \n",
              "5  [1.1359153403657826e+19, 1.1977836915185854e+1...  \n",
              "6  [5.408582514156641e+18, 5.636651800625133e+18,...  \n",
              "7  [1.5082413086759107e+19, 1.5792020581521512e+1...  \n",
              "8  [8.489333310764198e+18, 8.879832423179944e+18,...  \n",
              "9  [1.1141642958391404e+18, 1.187936733350747e+18...  "
            ]
          },
          "execution_count": 90,
          "metadata": {},
          "output_type": "execute_result"
        }
      ],
      "source": [
        "df.head(10)"
      ]
    },
    {
      "cell_type": "code",
      "execution_count": null,
      "metadata": {
        "id": "Rl2izYSiuCOZ",
        "outputId": "4f161ae7-423e-4076-bc76-f664b6777f53"
      },
      "outputs": [
        {
          "data": {
            "image/png": "[encoded data removed]",
            "text/plain": [
              "<Figure size 648x432 with 1 Axes>"
            ]
          },
          "metadata": {},
          "output_type": "display_data"
        }
      ],
      "source": [
        "plt.figure(figsize=(9,6))\n",
        "plt.title(\"Distribution of channel claases\",fontsize=18)\n",
        "plt.hist(df['Channel_class'],color='orange')\n",
        "plt.grid(True)\n",
        "plt.xticks(fontsize=15)\n",
        "plt.yticks(fontsize=15)\n",
        "plt.show()"
      ]
    },
    {
      "cell_type": "markdown",
      "metadata": {
        "id": "TcXwHY2MuCOa"
      },
      "source": [
        "### Save the net doping plots in a directory"
      ]
    },
    {
      "cell_type": "code",
      "execution_count": null,
      "metadata": {
        "id": "Rp7vVIKzuCOa",
        "outputId": "cbc96c08-5637-4278-8789-3ad9b8bce8d3"
      },
      "outputs": [
        {
          "name": "stderr",
          "output_type": "stream",
          "text": [
            "100%|████████████████████████████████████████| 500/500 [04:35<00:00,  1.81it/s]\n"
          ]
        }
      ],
      "source": [
        "from PIL import Image\n",
        "from tqdm import tqdm\n",
        "\n",
        "savelocation = 'Saved_Figs/'\n",
        "for i in tqdm(range(df.shape[0])):\n",
        "    plot_saving(df.iloc[i]['Net_dopings'])\n",
        "    plt.savefig(fname=savelocation+'Plot'+str(i),dpi=40,bbox_inches='tight')\n",
        "    plt.close()\n",
        "    #img = Image.open(savelocation+'Plot'+str(i)+'.png').convert('LA')\n",
        "    #img.save(savelocation+'Plot'+str(i)+'.png')"
      ]
    },
    {
      "cell_type": "markdown",
      "metadata": {
        "id": "8wTvmpPGuCOa"
      },
      "source": [
        "### Image of a random plot"
      ]
    },
    {
      "cell_type": "code",
      "execution_count": null,
      "metadata": {
        "id": "HbFK4FvAuCOa",
        "outputId": "95c9a337-3bec-40ef-fd38-d073ecea8e38"
      },
      "outputs": [
        {
          "name": "stderr",
          "output_type": "stream",
          "text": [
            "c:\\programdata\\miniconda3\\lib\\site-packages\\skimage\\io\\_io.py:49: UserWarning: `as_grey` has been deprecated in favor of `as_gray`\n",
            "  warn('`as_grey` has been deprecated in favor of `as_gray`')\n"
          ]
        },
        {
          "data": {
            "image/png": "[encoded data removed]",
            "text/plain": [
              "<Figure size 432x288 with 1 Axes>"
            ]
          },
          "metadata": {},
          "output_type": "display_data"
        }
      ],
      "source": [
        "from skimage import io\n",
        "im0 = io.imread('Saved_Figs/Plot15.png',as_grey=True)\n",
        "plt_shape=im0.shape\n",
        "plt.imshow(im0,cmap='gray')\n",
        "plt.show()"
      ]
    },
    {
      "cell_type": "code",
      "execution_count": null,
      "metadata": {
        "id": "BORPZfVMuCOa"
      },
      "outputs": [],
      "source": [
        "x=plt.imread('Saved_Figs/Plot15.png')"
      ]
    },
    {
      "cell_type": "code",
      "execution_count": null,
      "metadata": {
        "id": "uyrfndDZuCOa",
        "outputId": "9f285b85-f3a1-48cf-945e-65608bb9c18e"
      },
      "outputs": [
        {
          "data": {
            "text/plain": [
              "<matplotlib.image.AxesImage at 0x3439c518>"
            ]
          },
          "execution_count": 102,
          "metadata": {},
          "output_type": "execute_result"
        },
        {
          "data": {
            "image/png": "[encoded data removed]",
            "text/plain": [
              "<Figure size 432x288 with 1 Axes>"
            ]
          },
          "metadata": {},
          "output_type": "display_data"
        }
      ],
      "source": [
        "plt.imshow(x)"
      ]
    },
    {
      "cell_type": "markdown",
      "metadata": {
        "id": "pwKNrvKzuCOb"
      },
      "source": [
        "### Neural Network Model"
      ]
    },
    {
      "cell_type": "code",
      "execution_count": null,
      "metadata": {
        "id": "Jz0OAKGVuCOb"
      },
      "outputs": [],
      "source": [
        "import keras\n",
        "from keras.utils import np_utils\n",
        "from keras.models import Sequential\n",
        "from keras.layers import Conv2D, MaxPooling2D, Flatten, Dense, Dropout"
      ]
    },
    {
      "cell_type": "markdown",
      "metadata": {
        "id": "RHskw9IBuCOb"
      },
      "source": [
        "### Set up the image data to be used as input to the Neural Network"
      ]
    },
    {
      "cell_type": "code",
      "execution_count": null,
      "metadata": {
        "id": "lk7y6kCWuCOb",
        "outputId": "09c9af30-f085-4d8d-a822-b5d70cbae2a8"
      },
      "outputs": [
        {
          "name": "stderr",
          "output_type": "stream",
          "text": [
            "c:\\programdata\\miniconda3\\lib\\site-packages\\skimage\\io\\_io.py:49: UserWarning: `as_grey` has been deprecated in favor of `as_gray`\n",
            "  warn('`as_grey` has been deprecated in favor of `as_gray`')\n"
          ]
        }
      ],
      "source": [
        "X =[]\n",
        "for i in range(df.shape[0]):\n",
        "    X.append(io.imread(savelocation+'Plot'+str(i)+'.png',as_grey=True).reshape(plt_shape[0],plt_shape[1],1))\n",
        "\n",
        "y=df['Channel_class']\n",
        "num_classes = 4\n",
        "y = keras.utils.to_categorical(y, num_classes)"
      ]
    },
    {
      "cell_type": "code",
      "execution_count": null,
      "metadata": {
        "id": "GWwa_Y_VuCOb"
      },
      "outputs": [],
      "source": [
        "X=np.array(X)"
      ]
    },
    {
      "cell_type": "code",
      "execution_count": null,
      "metadata": {
        "id": "xZhNT33FuCOb",
        "outputId": "f74096ff-8aca-407d-9695-a48af6bbdfe0"
      },
      "outputs": [
        {
          "data": {
            "text/plain": [
              "(500, 171, 184, 1)"
            ]
          },
          "execution_count": 106,
          "metadata": {},
          "output_type": "execute_result"
        }
      ],
      "source": [
        "X.shape"
      ]
    },
    {
      "cell_type": "markdown",
      "metadata": {
        "id": "Nj7T4I85uCOb"
      },
      "source": [
        "### Training and Test set splits"
      ]
    },
    {
      "cell_type": "code",
      "execution_count": null,
      "metadata": {
        "id": "uv-arZgRuCOc"
      },
      "outputs": [],
      "source": [
        "from sklearn.model_selection import train_test_split"
      ]
    },
    {
      "cell_type": "code",
      "execution_count": null,
      "metadata": {
        "id": "X7Gqjoi6uCOc"
      },
      "outputs": [],
      "source": [
        "X_train, X_test, y_train, y_test = train_test_split(X, y, test_size=0.2)\n",
        "X_train, X_val, y_train, y_val = train_test_split(X_train, y_train, test_size=0.25)"
      ]
    },
    {
      "cell_type": "markdown",
      "metadata": {
        "id": "gb0Se4m3uCOc"
      },
      "source": [
        "### Set up the Convolutional Neural Network\n",
        "\n",
        "A convolutional neural network (CNN, or ConvNet) is a class of deep, feed-forward artificial neural networks, most commonly applied to analyzing visual imagery. CNNs use a variation of multilayer perceptrons designed to require minimal preprocessing. A CNN consists of an input and an output layer, as well as multiple hidden layers. The hidden layers of a CNN typically consist of convolutional layers, pooling layers, fully connected layers and normalization layers.\n",
        "\n",
        "![cnn1](https://cdn-images-1.medium.com/max/1600/1*N4h1SgwbWNmtrRhszM9EJg.png)"
      ]
    },
    {
      "cell_type": "code",
      "execution_count": null,
      "metadata": {
        "id": "m7r3DO2HuCOc",
        "outputId": "97723cf1-4c70-453f-de24-14d203654ba0"
      },
      "outputs": [
        {
          "name": "stdout",
          "output_type": "stream",
          "text": [
            "_________________________________________________________________\n",
            "Layer (type)                 Output Shape              Param #   \n",
            "=================================================================\n",
            "conv2d_13 (Conv2D)           (None, 171, 184, 32)      160       \n",
            "_________________________________________________________________\n",
            "max_pooling2d_13 (MaxPooling (None, 85, 92, 32)        0         \n",
            "_________________________________________________________________\n",
            "conv2d_14 (Conv2D)           (None, 85, 92, 64)        8256      \n",
            "_________________________________________________________________\n",
            "max_pooling2d_14 (MaxPooling (None, 42, 46, 64)        0         \n",
            "_________________________________________________________________\n",
            "conv2d_15 (Conv2D)           (None, 42, 46, 128)       32896     \n",
            "_________________________________________________________________\n",
            "max_pooling2d_15 (MaxPooling (None, 21, 23, 128)       0         \n",
            "_________________________________________________________________\n",
            "dropout_9 (Dropout)          (None, 21, 23, 128)       0         \n",
            "_________________________________________________________________\n",
            "flatten_5 (Flatten)          (None, 61824)             0         \n",
            "_________________________________________________________________\n",
            "dense_9 (Dense)              (None, 50)                3091250   \n",
            "_________________________________________________________________\n",
            "dropout_10 (Dropout)         (None, 50)                0         \n",
            "_________________________________________________________________\n",
            "dense_10 (Dense)             (None, 4)                 204       \n",
            "=================================================================\n",
            "Total params: 3,132,766\n",
            "Trainable params: 3,132,766\n",
            "Non-trainable params: 0\n",
            "_________________________________________________________________\n"
          ]
        }
      ],
      "source": [
        "input_shape=(plt_shape[0],plt_shape[1],1)\n",
        "model = Sequential()\n",
        "model.add(Conv2D(filters=32, kernel_size=2, padding='same', activation='relu',\n",
        "                        input_shape=input_shape))\n",
        "model.add(MaxPooling2D(pool_size=2))\n",
        "model.add(Conv2D(filters=64, kernel_size=2, padding='same', activation='relu'))\n",
        "model.add(MaxPooling2D(pool_size=2))\n",
        "model.add(Conv2D(filters=128, kernel_size=2, padding='same', activation='relu'))\n",
        "model.add(MaxPooling2D(pool_size=2))\n",
        "model.add(Dropout(0.2))\n",
        "model.add(Flatten())\n",
        "model.add(Dense(50, activation='relu'))\n",
        "model.add(Dropout(0.2))\n",
        "model.add(Dense(4, activation='softmax'))\n",
        "\n",
        "model.summary()"
      ]
    },
    {
      "cell_type": "markdown",
      "metadata": {
        "id": "-U6oy601uCOd"
      },
      "source": [
        "### Optimizer and loss function"
      ]
    },
    {
      "cell_type": "code",
      "execution_count": null,
      "metadata": {
        "id": "26419cRPuCOd"
      },
      "outputs": [],
      "source": [
        "optimizer=keras.optimizers.adam(lr=0.001)\n",
        "model.compile(loss='categorical_crossentropy', optimizer=optimizer,metrics=['accuracy'])"
      ]
    },
    {
      "cell_type": "code",
      "execution_count": null,
      "metadata": {
        "scrolled": true,
        "id": "9GFMBN06uCOe",
        "outputId": "13e3664f-0508-473f-ffc0-83972184b0ab"
      },
      "outputs": [
        {
          "name": "stdout",
          "output_type": "stream",
          "text": [
            "Train on 300 samples, validate on 100 samples\n",
            "Epoch 1/20\n",
            "300/300 [==============================] - ETA: 22s - loss: 1.3417 - acc: 0.43 - ETA: 16s - loss: 3.7309 - acc: 0.35 - ETA: 12s - loss: 3.4156 - acc: 0.32 - ETA: 10s - loss: 3.1226 - acc: 0.29 - ETA: 7s - loss: 2.8225 - acc: 0.2938 - ETA: 6s - loss: 2.5939 - acc: 0.286 - ETA: 4s - loss: 2.4213 - acc: 0.303 - ETA: 2s - loss: 2.2915 - acc: 0.308 - ETA: 0s - loss: 2.1915 - acc: 0.316 - 18s 59ms/step - loss: 2.1579 - acc: 0.3200 - val_loss: 1.3507 - val_acc: 0.3400\n",
            "Epoch 2/20\n",
            "300/300 [==============================] - ETA: 13s - loss: 1.3639 - acc: 0.31 - ETA: 11s - loss: 1.3657 - acc: 0.28 - ETA: 10s - loss: 1.3475 - acc: 0.33 - ETA: 8s - loss: 1.3485 - acc: 0.3125 - ETA: 7s - loss: 1.3554 - acc: 0.318 - ETA: 5s - loss: 1.3470 - acc: 0.307 - ETA: 3s - loss: 1.3428 - acc: 0.294 - ETA: 2s - loss: 1.3329 - acc: 0.300 - ETA: 0s - loss: 1.3402 - acc: 0.312 - 16s 55ms/step - loss: 1.3385 - acc: 0.3100 - val_loss: 1.2919 - val_acc: 0.3400\n",
            "Epoch 3/20\n",
            "300/300 [==============================] - ETA: 14s - loss: 1.3324 - acc: 0.25 - ETA: 12s - loss: 1.3388 - acc: 0.25 - ETA: 10s - loss: 1.3048 - acc: 0.30 - ETA: 9s - loss: 1.3234 - acc: 0.3281 - ETA: 7s - loss: 1.3274 - acc: 0.343 - ETA: 5s - loss: 1.3108 - acc: 0.401 - ETA: 4s - loss: 1.2973 - acc: 0.437 - ETA: 2s - loss: 1.2873 - acc: 0.457 - ETA: 0s - loss: 1.2863 - acc: 0.458 - 17s 58ms/step - loss: 1.2926 - acc: 0.4533 - val_loss: 1.1756 - val_acc: 0.5300\n",
            "Epoch 4/20\n",
            "300/300 [==============================] - ETA: 13s - loss: 1.1432 - acc: 0.46 - ETA: 12s - loss: 1.1805 - acc: 0.46 - ETA: 10s - loss: 1.1670 - acc: 0.50 - ETA: 9s - loss: 1.1411 - acc: 0.5469 - ETA: 7s - loss: 1.1326 - acc: 0.525 - ETA: 5s - loss: 1.1306 - acc: 0.515 - ETA: 3s - loss: 1.1136 - acc: 0.544 - ETA: 2s - loss: 1.0989 - acc: 0.546 - ETA: 0s - loss: 1.0816 - acc: 0.572 - 17s 56ms/step - loss: 1.0784 - acc: 0.5833 - val_loss: 0.7940 - val_acc: 0.8700\n",
            "Epoch 5/20\n",
            "300/300 [==============================] - ETA: 13s - loss: 0.7636 - acc: 0.90 - ETA: 11s - loss: 0.8357 - acc: 0.81 - ETA: 10s - loss: 0.8318 - acc: 0.78 - ETA: 8s - loss: 0.7868 - acc: 0.7969 - ETA: 7s - loss: 0.7537 - acc: 0.812 - ETA: 5s - loss: 0.7466 - acc: 0.802 - ETA: 3s - loss: 0.7432 - acc: 0.794 - ETA: 2s - loss: 0.7383 - acc: 0.785 - ETA: 0s - loss: 0.7066 - acc: 0.798 - 17s 55ms/step - loss: 0.6998 - acc: 0.8033 - val_loss: 0.4484 - val_acc: 0.8700\n",
            "Epoch 6/20\n",
            "300/300 [==============================] - ETA: 13s - loss: 0.4768 - acc: 0.84 - ETA: 12s - loss: 0.5647 - acc: 0.81 - ETA: 10s - loss: 0.5383 - acc: 0.82 - ETA: 8s - loss: 0.4964 - acc: 0.8359 - ETA: 7s - loss: 0.5289 - acc: 0.806 - ETA: 5s - loss: 0.5028 - acc: 0.812 - ETA: 3s - loss: 0.5138 - acc: 0.803 - ETA: 2s - loss: 0.4879 - acc: 0.808 - ETA: 0s - loss: 0.4726 - acc: 0.812 - 17s 55ms/step - loss: 0.4652 - acc: 0.8133 - val_loss: 0.2672 - val_acc: 0.8600\n",
            "Epoch 7/20\n",
            "300/300 [==============================] - ETA: 13s - loss: 0.3266 - acc: 0.84 - ETA: 11s - loss: 0.3479 - acc: 0.84 - ETA: 10s - loss: 0.3821 - acc: 0.81 - ETA: 8s - loss: 0.3784 - acc: 0.8047 - ETA: 7s - loss: 0.3576 - acc: 0.825 - ETA: 5s - loss: 0.3759 - acc: 0.817 - ETA: 3s - loss: 0.3650 - acc: 0.825 - ETA: 2s - loss: 0.3623 - acc: 0.839 - ETA: 0s - loss: 0.3449 - acc: 0.847 - 17s 56ms/step - loss: 0.3365 - acc: 0.8500 - val_loss: 0.2017 - val_acc: 0.9300\n",
            "Epoch 8/20\n",
            "300/300 [==============================] - ETA: 15s - loss: 0.3059 - acc: 0.90 - ETA: 13s - loss: 0.2987 - acc: 0.87 - ETA: 11s - loss: 0.3430 - acc: 0.87 - ETA: 10s - loss: 0.3263 - acc: 0.87 - ETA: 8s - loss: 0.3125 - acc: 0.8688 - ETA: 6s - loss: 0.2934 - acc: 0.875 - ETA: 4s - loss: 0.2720 - acc: 0.888 - ETA: 2s - loss: 0.2745 - acc: 0.886 - ETA: 0s - loss: 0.2593 - acc: 0.888 - 20s 68ms/step - loss: 0.2561 - acc: 0.8900 - val_loss: 0.1478 - val_acc: 0.9400\n",
            "Epoch 9/20\n",
            "300/300 [==============================] - ETA: 16s - loss: 0.1654 - acc: 0.93 - ETA: 14s - loss: 0.1956 - acc: 0.90 - ETA: 12s - loss: 0.2103 - acc: 0.90 - ETA: 9s - loss: 0.1970 - acc: 0.8984 - ETA: 7s - loss: 0.1819 - acc: 0.906 - ETA: 5s - loss: 0.1805 - acc: 0.901 - ETA: 4s - loss: 0.2030 - acc: 0.897 - ETA: 2s - loss: 0.2053 - acc: 0.894 - ETA: 0s - loss: 0.2118 - acc: 0.892 - 17s 58ms/step - loss: 0.2074 - acc: 0.8967 - val_loss: 0.1115 - val_acc: 0.9500\n",
            "Epoch 10/20\n",
            "300/300 [==============================] - ETA: 13s - loss: 0.2090 - acc: 0.87 - ETA: 11s - loss: 0.1380 - acc: 0.93 - ETA: 10s - loss: 0.1403 - acc: 0.93 - ETA: 8s - loss: 0.1597 - acc: 0.9297 - ETA: 7s - loss: 0.1742 - acc: 0.925 - ETA: 5s - loss: 0.1621 - acc: 0.937 - ETA: 3s - loss: 0.1705 - acc: 0.933 - ETA: 2s - loss: 0.1637 - acc: 0.937 - ETA: 0s - loss: 0.1829 - acc: 0.927 - 17s 56ms/step - loss: 0.1848 - acc: 0.9267 - val_loss: 0.1214 - val_acc: 0.9600\n",
            "Epoch 11/20\n",
            "300/300 [==============================] - ETA: 13s - loss: 0.0925 - acc: 0.96 - ETA: 11s - loss: 0.0779 - acc: 0.96 - ETA: 10s - loss: 0.0730 - acc: 0.97 - ETA: 8s - loss: 0.0898 - acc: 0.9609 - ETA: 7s - loss: 0.0943 - acc: 0.956 - ETA: 5s - loss: 0.0937 - acc: 0.958 - ETA: 3s - loss: 0.1122 - acc: 0.950 - ETA: 2s - loss: 0.1118 - acc: 0.949 - ETA: 0s - loss: 0.1143 - acc: 0.947 - 17s 57ms/step - loss: 0.1106 - acc: 0.9500 - val_loss: 0.1162 - val_acc: 0.9500\n",
            "Epoch 12/20\n",
            "300/300 [==============================] - ETA: 13s - loss: 0.2586 - acc: 0.90 - ETA: 11s - loss: 0.1920 - acc: 0.92 - ETA: 10s - loss: 0.1564 - acc: 0.93 - ETA: 8s - loss: 0.1720 - acc: 0.9453 - ETA: 7s - loss: 0.1541 - acc: 0.950 - ETA: 5s - loss: 0.1482 - acc: 0.953 - ETA: 3s - loss: 0.1422 - acc: 0.955 - ETA: 2s - loss: 0.1355 - acc: 0.957 - ETA: 0s - loss: 0.1389 - acc: 0.951 - 17s 57ms/step - loss: 0.1356 - acc: 0.9533 - val_loss: 0.1188 - val_acc: 0.9500\n",
            "Epoch 13/20\n",
            "300/300 [==============================] - ETA: 14s - loss: 0.0234 - acc: 1.00 - ETA: 12s - loss: 0.0516 - acc: 0.98 - ETA: 10s - loss: 0.0615 - acc: 0.97 - ETA: 8s - loss: 0.1090 - acc: 0.9609 - ETA: 7s - loss: 0.1140 - acc: 0.956 - ETA: 5s - loss: 0.1034 - acc: 0.958 - ETA: 3s - loss: 0.0967 - acc: 0.964 - ETA: 2s - loss: 0.0940 - acc: 0.960 - ETA: 0s - loss: 0.0922 - acc: 0.961 - 17s 56ms/step - loss: 0.0904 - acc: 0.9633 - val_loss: 0.1323 - val_acc: 0.9500\n",
            "Epoch 14/20\n",
            "300/300 [==============================] - ETA: 13s - loss: 0.0818 - acc: 0.96 - ETA: 11s - loss: 0.1058 - acc: 0.96 - ETA: 10s - loss: 0.0940 - acc: 0.96 - ETA: 8s - loss: 0.0730 - acc: 0.9766 - ETA: 7s - loss: 0.0845 - acc: 0.968 - ETA: 5s - loss: 0.0920 - acc: 0.968 - ETA: 3s - loss: 0.0979 - acc: 0.968 - ETA: 2s - loss: 0.0948 - acc: 0.968 - ETA: 0s - loss: 0.0866 - acc: 0.972 - 17s 57ms/step - loss: 0.0849 - acc: 0.9733 - val_loss: 0.1288 - val_acc: 0.9500\n",
            "Epoch 15/20\n",
            "300/300 [==============================] - ETA: 13s - loss: 0.1954 - acc: 0.93 - ETA: 12s - loss: 0.1164 - acc: 0.96 - ETA: 10s - loss: 0.0836 - acc: 0.97 - ETA: 8s - loss: 0.0948 - acc: 0.9688 - ETA: 7s - loss: 0.0887 - acc: 0.968 - ETA: 5s - loss: 0.0883 - acc: 0.963 - ETA: 3s - loss: 0.0855 - acc: 0.964 - ETA: 2s - loss: 0.0902 - acc: 0.960 - ETA: 0s - loss: 0.0856 - acc: 0.961 - 17s 56ms/step - loss: 0.1048 - acc: 0.9533 - val_loss: 0.1351 - val_acc: 0.9500\n",
            "Epoch 16/20\n",
            "300/300 [==============================] - ETA: 13s - loss: 0.0884 - acc: 0.96 - ETA: 11s - loss: 0.1706 - acc: 0.95 - ETA: 10s - loss: 0.1339 - acc: 0.96 - ETA: 8s - loss: 0.1346 - acc: 0.9688 - ETA: 7s - loss: 0.1521 - acc: 0.950 - ETA: 5s - loss: 0.1396 - acc: 0.953 - ETA: 3s - loss: 0.1255 - acc: 0.959 - ETA: 2s - loss: 0.1122 - acc: 0.964 - ETA: 0s - loss: 0.1061 - acc: 0.968 - 17s 55ms/step - loss: 0.1126 - acc: 0.9633 - val_loss: 0.1645 - val_acc: 0.9600\n",
            "Epoch 17/20\n",
            "300/300 [==============================] - ETA: 13s - loss: 0.0446 - acc: 1.00 - ETA: 11s - loss: 0.1435 - acc: 0.93 - ETA: 10s - loss: 0.1125 - acc: 0.95 - ETA: 8s - loss: 0.0949 - acc: 0.9688 - ETA: 7s - loss: 0.1081 - acc: 0.956 - ETA: 5s - loss: 0.1012 - acc: 0.958 - ETA: 3s - loss: 0.0983 - acc: 0.964 - ETA: 2s - loss: 0.0918 - acc: 0.968 - ETA: 0s - loss: 0.0917 - acc: 0.968 - 17s 56ms/step - loss: 0.0888 - acc: 0.9700 - val_loss: 0.1123 - val_acc: 0.9600\n",
            "Epoch 18/20\n"
          ]
        },
        {
          "name": "stdout",
          "output_type": "stream",
          "text": [
            "300/300 [==============================] - ETA: 13s - loss: 0.0962 - acc: 0.96 - ETA: 11s - loss: 0.0731 - acc: 0.98 - ETA: 10s - loss: 0.0694 - acc: 0.97 - ETA: 8s - loss: 0.0583 - acc: 0.9844 - ETA: 7s - loss: 0.0510 - acc: 0.987 - ETA: 5s - loss: 0.0691 - acc: 0.974 - ETA: 3s - loss: 0.0630 - acc: 0.977 - ETA: 2s - loss: 0.0657 - acc: 0.976 - ETA: 0s - loss: 0.0749 - acc: 0.972 - 17s 56ms/step - loss: 0.0750 - acc: 0.9733 - val_loss: 0.1553 - val_acc: 0.9500\n",
            "Epoch 19/20\n",
            "300/300 [==============================] - ETA: 13s - loss: 0.0659 - acc: 0.96 - ETA: 11s - loss: 0.0352 - acc: 0.98 - ETA: 10s - loss: 0.0406 - acc: 0.97 - ETA: 8s - loss: 0.0501 - acc: 0.9766 - ETA: 7s - loss: 0.0582 - acc: 0.968 - ETA: 5s - loss: 0.0494 - acc: 0.974 - ETA: 3s - loss: 0.0502 - acc: 0.973 - ETA: 2s - loss: 0.0498 - acc: 0.972 - ETA: 0s - loss: 0.0487 - acc: 0.975 - 16s 55ms/step - loss: 0.0490 - acc: 0.9767 - val_loss: 0.1558 - val_acc: 0.9500\n",
            "Epoch 20/20\n",
            "300/300 [==============================] - ETA: 13s - loss: 0.0172 - acc: 1.00 - ETA: 11s - loss: 0.0347 - acc: 0.98 - ETA: 10s - loss: 0.0377 - acc: 0.98 - ETA: 8s - loss: 0.0341 - acc: 0.9922 - ETA: 6s - loss: 0.0361 - acc: 0.987 - ETA: 5s - loss: 0.0416 - acc: 0.984 - ETA: 3s - loss: 0.0393 - acc: 0.986 - ETA: 2s - loss: 0.0347 - acc: 0.988 - ETA: 0s - loss: 0.0564 - acc: 0.982 - 16s 55ms/step - loss: 0.0582 - acc: 0.9800 - val_loss: 0.1520 - val_acc: 0.9500\n"
          ]
        }
      ],
      "source": [
        "from keras.callbacks import ModelCheckpoint\n",
        "\n",
        "# train the model\n",
        "checkpointer = ModelCheckpoint(filepath='model.weights.best.hdf5', verbose=0,\n",
        "                               save_best_only=True)\n",
        "hist = model.fit(X_train, y_train, batch_size=32, epochs=20,\n",
        "          validation_data=(X_val, y_val), callbacks=[checkpointer],\n",
        "          verbose=1, shuffle=True)"
      ]
    },
    {
      "cell_type": "code",
      "execution_count": null,
      "metadata": {
        "id": "YL4zQxshuCOe",
        "outputId": "8fc37526-0067-48a8-c0b5-709b5601ef5d"
      },
      "outputs": [
        {
          "name": "stdout",
          "output_type": "stream",
          "text": [
            "100/100 [==============================] - ETA:  - ETA:  - ETA:  - 1s 14ms/step\n"
          ]
        },
        {
          "data": {
            "text/plain": [
              "[0.13435203433036805, 0.97]"
            ]
          },
          "execution_count": 116,
          "metadata": {},
          "output_type": "execute_result"
        }
      ],
      "source": [
        "model.load_weights('model.weights.best.hdf5')\n",
        "model.evaluate(X_test,y_test)"
      ]
    },
    {
      "cell_type": "code",
      "execution_count": null,
      "metadata": {
        "id": "Qr1_Uah6uCOe"
      },
      "outputs": [],
      "source": [
        "predictions=model.predict(X_test)"
      ]
    },
    {
      "cell_type": "markdown",
      "metadata": {
        "id": "rYYd1e4_uCOe"
      },
      "source": [
        "### Show time! Test a prediction!"
      ]
    },
    {
      "cell_type": "code",
      "execution_count": null,
      "metadata": {
        "id": "ttqwf0zruCOe"
      },
      "outputs": [],
      "source": [
        "test_prediction=15"
      ]
    },
    {
      "cell_type": "code",
      "execution_count": null,
      "metadata": {
        "scrolled": false,
        "id": "hU9W8uI1uCOe",
        "outputId": "fba736d1-78e6-4ca6-9d82-3d95d8791ab1"
      },
      "outputs": [
        {
          "data": {
            "image/png": "[encoded data removed]",
            "text/plain": [
              "<Figure size 432x288 with 1 Axes>"
            ]
          },
          "metadata": {},
          "output_type": "display_data"
        }
      ],
      "source": [
        "plt.imshow(X_test[test_prediction].reshape(X_test.shape[1],X_test.shape[2]),cmap='gray')\n",
        "plt.show()"
      ]
    },
    {
      "cell_type": "markdown",
      "metadata": {
        "id": "QAvBG7S1uCOe"
      },
      "source": [
        "#### What the Neural Network outputs in probabilities"
      ]
    },
    {
      "cell_type": "code",
      "execution_count": null,
      "metadata": {
        "id": "s44D6ms0uCOf",
        "outputId": "c7358985-25c2-4594-bb95-db7ab4a1be84"
      },
      "outputs": [
        {
          "data": {
            "text/plain": [
              "array([9.97623980e-01, 1.41089119e-03, 8.43886461e-04, 1.21128214e-04],\n",
              "      dtype=float32)"
            ]
          },
          "execution_count": 122,
          "metadata": {},
          "output_type": "execute_result"
        }
      ],
      "source": [
        "predictions[test_prediction]"
      ]
    },
    {
      "cell_type": "markdown",
      "metadata": {
        "id": "0IhmLIN3uCOf"
      },
      "source": [
        "#### What the actual class is"
      ]
    },
    {
      "cell_type": "code",
      "execution_count": null,
      "metadata": {
        "id": "itFdaymguCOf",
        "outputId": "9dd4ee62-5351-456b-bc40-34f6b0e6d8b8"
      },
      "outputs": [
        {
          "data": {
            "text/plain": [
              "array([1., 0., 0., 0.], dtype=float32)"
            ]
          },
          "execution_count": 123,
          "metadata": {},
          "output_type": "execute_result"
        }
      ],
      "source": [
        "y_test[test_prediction]"
      ]
    },
    {
      "cell_type": "markdown",
      "metadata": {
        "id": "0Mf-g28HuCOf"
      },
      "source": [
        "### Visually show the Neural Network output"
      ]
    },
    {
      "cell_type": "code",
      "execution_count": null,
      "metadata": {
        "id": "I23T1DZMuCOf",
        "outputId": "4a73250a-7c20-4b55-b2eb-f228d7d72684"
      },
      "outputs": [
        {
          "name": "stderr",
          "output_type": "stream",
          "text": [
            "c:\\programdata\\miniconda3\\lib\\site-packages\\matplotlib\\pyplot.py:2790: MatplotlibDeprecationWarning: The *bottom* kwarg to `barh` is deprecated use *y* instead. Support for *bottom* will be removed in Matplotlib 3.0\n",
            "  ret = ax.barh(*args, **kwargs)\n"
          ]
        },
        {
          "data": {
            "image/png": "[encoded data removed]",
            "text/plain": [
              "<Figure size 576x360 with 1 Axes>"
            ]
          },
          "metadata": {},
          "output_type": "display_data"
        }
      ],
      "source": [
        "plt.figure(figsize=(8,5))\n",
        "plt.barh(width=predictions[test_prediction],bottom=[1,2,3,4],edgecolor='k',color='orange',alpha=0.75,\n",
        "         tick_label=['No channel','Short-channel','Right channel','Long channel'])\n",
        "plt.grid(True)\n",
        "plt.ylabel(\"Output Classes\",fontsize=15)\n",
        "plt.title(\"Class probabilities predicted by the deep neural network\",fontsize=15)\n",
        "plt.show()"
      ]
    },
    {
      "cell_type": "markdown",
      "metadata": {
        "id": "okmJihGpuCOf"
      },
      "source": [
        "### Table of predicted and actual class labels"
      ]
    },
    {
      "cell_type": "code",
      "execution_count": null,
      "metadata": {
        "id": "Rv0ePWcQuCOf",
        "outputId": "0b7403ff-0371-45f1-bfd2-5fe61a20f565"
      },
      "outputs": [
        {
          "data": {
            "text/html": [
              "<div>\n",
              "<style scoped>\n",
              "    .dataframe tbody tr th:only-of-type {\n",
              "        vertical-align: middle;\n",
              "    }\n",
              "\n",
              "    .dataframe tbody tr th {\n",
              "        vertical-align: top;\n",
              "    }\n",
              "\n",
              "    .dataframe thead th {\n",
              "        text-align: right;\n",
              "    }\n",
              "</style>\n",
              "<table border=\"1\" class=\"dataframe\">\n",
              "  <thead>\n",
              "    <tr style=\"text-align: right;\">\n",
              "      <th></th>\n",
              "      <th>Predicted Class-1</th>\n",
              "      <th>Predicted Class-2</th>\n",
              "      <th>Predicted Class-3</th>\n",
              "      <th>Predicted Class-4</th>\n",
              "      <th>Actual Class-1</th>\n",
              "      <th>Actual Class-2</th>\n",
              "      <th>Actual Class-3</th>\n",
              "      <th>Actual Class-4</th>\n",
              "    </tr>\n",
              "  </thead>\n",
              "  <tbody>\n",
              "    <tr>\n",
              "      <th>0</th>\n",
              "      <td>9.999956e-01</td>\n",
              "      <td>8.280964e-08</td>\n",
              "      <td>0.000003</td>\n",
              "      <td>0.000001</td>\n",
              "      <td>1.0</td>\n",
              "      <td>0.0</td>\n",
              "      <td>0.0</td>\n",
              "      <td>0.0</td>\n",
              "    </tr>\n",
              "    <tr>\n",
              "      <th>1</th>\n",
              "      <td>2.103031e-01</td>\n",
              "      <td>7.427968e-01</td>\n",
              "      <td>0.045950</td>\n",
              "      <td>0.000950</td>\n",
              "      <td>0.0</td>\n",
              "      <td>1.0</td>\n",
              "      <td>0.0</td>\n",
              "      <td>0.0</td>\n",
              "    </tr>\n",
              "    <tr>\n",
              "      <th>2</th>\n",
              "      <td>9.966379e-01</td>\n",
              "      <td>1.832807e-03</td>\n",
              "      <td>0.001236</td>\n",
              "      <td>0.000293</td>\n",
              "      <td>1.0</td>\n",
              "      <td>0.0</td>\n",
              "      <td>0.0</td>\n",
              "      <td>0.0</td>\n",
              "    </tr>\n",
              "    <tr>\n",
              "      <th>3</th>\n",
              "      <td>4.032896e-05</td>\n",
              "      <td>1.303050e-03</td>\n",
              "      <td>0.977186</td>\n",
              "      <td>0.021470</td>\n",
              "      <td>0.0</td>\n",
              "      <td>0.0</td>\n",
              "      <td>1.0</td>\n",
              "      <td>0.0</td>\n",
              "    </tr>\n",
              "    <tr>\n",
              "      <th>4</th>\n",
              "      <td>9.124783e-01</td>\n",
              "      <td>7.830039e-02</td>\n",
              "      <td>0.008431</td>\n",
              "      <td>0.000790</td>\n",
              "      <td>1.0</td>\n",
              "      <td>0.0</td>\n",
              "      <td>0.0</td>\n",
              "      <td>0.0</td>\n",
              "    </tr>\n",
              "    <tr>\n",
              "      <th>5</th>\n",
              "      <td>1.989815e-06</td>\n",
              "      <td>7.792508e-04</td>\n",
              "      <td>0.998602</td>\n",
              "      <td>0.000617</td>\n",
              "      <td>0.0</td>\n",
              "      <td>0.0</td>\n",
              "      <td>1.0</td>\n",
              "      <td>0.0</td>\n",
              "    </tr>\n",
              "    <tr>\n",
              "      <th>6</th>\n",
              "      <td>7.077238e-04</td>\n",
              "      <td>5.171399e-07</td>\n",
              "      <td>0.000352</td>\n",
              "      <td>0.998940</td>\n",
              "      <td>0.0</td>\n",
              "      <td>0.0</td>\n",
              "      <td>0.0</td>\n",
              "      <td>1.0</td>\n",
              "    </tr>\n",
              "    <tr>\n",
              "      <th>7</th>\n",
              "      <td>5.755540e-05</td>\n",
              "      <td>1.867714e-08</td>\n",
              "      <td>0.000088</td>\n",
              "      <td>0.999855</td>\n",
              "      <td>0.0</td>\n",
              "      <td>0.0</td>\n",
              "      <td>0.0</td>\n",
              "      <td>1.0</td>\n",
              "    </tr>\n",
              "    <tr>\n",
              "      <th>8</th>\n",
              "      <td>5.606919e-07</td>\n",
              "      <td>1.218205e-03</td>\n",
              "      <td>0.998182</td>\n",
              "      <td>0.000599</td>\n",
              "      <td>0.0</td>\n",
              "      <td>0.0</td>\n",
              "      <td>1.0</td>\n",
              "      <td>0.0</td>\n",
              "    </tr>\n",
              "    <tr>\n",
              "      <th>9</th>\n",
              "      <td>9.272489e-06</td>\n",
              "      <td>3.718417e-04</td>\n",
              "      <td>0.955045</td>\n",
              "      <td>0.044574</td>\n",
              "      <td>0.0</td>\n",
              "      <td>0.0</td>\n",
              "      <td>1.0</td>\n",
              "      <td>0.0</td>\n",
              "    </tr>\n",
              "    <tr>\n",
              "      <th>10</th>\n",
              "      <td>1.079291e-01</td>\n",
              "      <td>7.266167e-01</td>\n",
              "      <td>0.162495</td>\n",
              "      <td>0.002959</td>\n",
              "      <td>0.0</td>\n",
              "      <td>1.0</td>\n",
              "      <td>0.0</td>\n",
              "      <td>0.0</td>\n",
              "    </tr>\n",
              "    <tr>\n",
              "      <th>11</th>\n",
              "      <td>9.999048e-01</td>\n",
              "      <td>1.071548e-05</td>\n",
              "      <td>0.000061</td>\n",
              "      <td>0.000023</td>\n",
              "      <td>1.0</td>\n",
              "      <td>0.0</td>\n",
              "      <td>0.0</td>\n",
              "      <td>0.0</td>\n",
              "    </tr>\n",
              "    <tr>\n",
              "      <th>12</th>\n",
              "      <td>2.477446e-07</td>\n",
              "      <td>9.062933e-05</td>\n",
              "      <td>0.992479</td>\n",
              "      <td>0.007430</td>\n",
              "      <td>0.0</td>\n",
              "      <td>0.0</td>\n",
              "      <td>1.0</td>\n",
              "      <td>0.0</td>\n",
              "    </tr>\n",
              "    <tr>\n",
              "      <th>13</th>\n",
              "      <td>9.999244e-01</td>\n",
              "      <td>7.400612e-06</td>\n",
              "      <td>0.000049</td>\n",
              "      <td>0.000019</td>\n",
              "      <td>1.0</td>\n",
              "      <td>0.0</td>\n",
              "      <td>0.0</td>\n",
              "      <td>0.0</td>\n",
              "    </tr>\n",
              "    <tr>\n",
              "      <th>14</th>\n",
              "      <td>2.088697e-05</td>\n",
              "      <td>1.995473e-06</td>\n",
              "      <td>0.016191</td>\n",
              "      <td>0.983786</td>\n",
              "      <td>0.0</td>\n",
              "      <td>0.0</td>\n",
              "      <td>0.0</td>\n",
              "      <td>1.0</td>\n",
              "    </tr>\n",
              "    <tr>\n",
              "      <th>15</th>\n",
              "      <td>9.976240e-01</td>\n",
              "      <td>1.410891e-03</td>\n",
              "      <td>0.000844</td>\n",
              "      <td>0.000121</td>\n",
              "      <td>1.0</td>\n",
              "      <td>0.0</td>\n",
              "      <td>0.0</td>\n",
              "      <td>0.0</td>\n",
              "    </tr>\n",
              "    <tr>\n",
              "      <th>16</th>\n",
              "      <td>6.568368e-06</td>\n",
              "      <td>5.212119e-09</td>\n",
              "      <td>0.000076</td>\n",
              "      <td>0.999918</td>\n",
              "      <td>0.0</td>\n",
              "      <td>0.0</td>\n",
              "      <td>0.0</td>\n",
              "      <td>1.0</td>\n",
              "    </tr>\n",
              "    <tr>\n",
              "      <th>17</th>\n",
              "      <td>3.922992e-01</td>\n",
              "      <td>5.613265e-01</td>\n",
              "      <td>0.044263</td>\n",
              "      <td>0.002112</td>\n",
              "      <td>0.0</td>\n",
              "      <td>1.0</td>\n",
              "      <td>0.0</td>\n",
              "      <td>0.0</td>\n",
              "    </tr>\n",
              "    <tr>\n",
              "      <th>18</th>\n",
              "      <td>2.971013e-01</td>\n",
              "      <td>6.348775e-01</td>\n",
              "      <td>0.064992</td>\n",
              "      <td>0.003029</td>\n",
              "      <td>0.0</td>\n",
              "      <td>1.0</td>\n",
              "      <td>0.0</td>\n",
              "      <td>0.0</td>\n",
              "    </tr>\n",
              "    <tr>\n",
              "      <th>19</th>\n",
              "      <td>9.945602e-01</td>\n",
              "      <td>3.361702e-03</td>\n",
              "      <td>0.001718</td>\n",
              "      <td>0.000361</td>\n",
              "      <td>1.0</td>\n",
              "      <td>0.0</td>\n",
              "      <td>0.0</td>\n",
              "      <td>0.0</td>\n",
              "    </tr>\n",
              "  </tbody>\n",
              "</table>\n",
              "</div>"
            ],
            "text/plain": [
              "    Predicted Class-1  Predicted Class-2  Predicted Class-3  \\\n",
              "0        9.999956e-01       8.280964e-08           0.000003   \n",
              "1        2.103031e-01       7.427968e-01           0.045950   \n",
              "2        9.966379e-01       1.832807e-03           0.001236   \n",
              "3        4.032896e-05       1.303050e-03           0.977186   \n",
              "4        9.124783e-01       7.830039e-02           0.008431   \n",
              "5        1.989815e-06       7.792508e-04           0.998602   \n",
              "6        7.077238e-04       5.171399e-07           0.000352   \n",
              "7        5.755540e-05       1.867714e-08           0.000088   \n",
              "8        5.606919e-07       1.218205e-03           0.998182   \n",
              "9        9.272489e-06       3.718417e-04           0.955045   \n",
              "10       1.079291e-01       7.266167e-01           0.162495   \n",
              "11       9.999048e-01       1.071548e-05           0.000061   \n",
              "12       2.477446e-07       9.062933e-05           0.992479   \n",
              "13       9.999244e-01       7.400612e-06           0.000049   \n",
              "14       2.088697e-05       1.995473e-06           0.016191   \n",
              "15       9.976240e-01       1.410891e-03           0.000844   \n",
              "16       6.568368e-06       5.212119e-09           0.000076   \n",
              "17       3.922992e-01       5.613265e-01           0.044263   \n",
              "18       2.971013e-01       6.348775e-01           0.064992   \n",
              "19       9.945602e-01       3.361702e-03           0.001718   \n",
              "\n",
              "    Predicted Class-4  Actual Class-1  Actual Class-2  Actual Class-3  \\\n",
              "0            0.000001             1.0             0.0             0.0   \n",
              "1            0.000950             0.0             1.0             0.0   \n",
              "2            0.000293             1.0             0.0             0.0   \n",
              "3            0.021470             0.0             0.0             1.0   \n",
              "4            0.000790             1.0             0.0             0.0   \n",
              "5            0.000617             0.0             0.0             1.0   \n",
              "6            0.998940             0.0             0.0             0.0   \n",
              "7            0.999855             0.0             0.0             0.0   \n",
              "8            0.000599             0.0             0.0             1.0   \n",
              "9            0.044574             0.0             0.0             1.0   \n",
              "10           0.002959             0.0             1.0             0.0   \n",
              "11           0.000023             1.0             0.0             0.0   \n",
              "12           0.007430             0.0             0.0             1.0   \n",
              "13           0.000019             1.0             0.0             0.0   \n",
              "14           0.983786             0.0             0.0             0.0   \n",
              "15           0.000121             1.0             0.0             0.0   \n",
              "16           0.999918             0.0             0.0             0.0   \n",
              "17           0.002112             0.0             1.0             0.0   \n",
              "18           0.003029             0.0             1.0             0.0   \n",
              "19           0.000361             1.0             0.0             0.0   \n",
              "\n",
              "    Actual Class-4  \n",
              "0              0.0  \n",
              "1              0.0  \n",
              "2              0.0  \n",
              "3              0.0  \n",
              "4              0.0  \n",
              "5              0.0  \n",
              "6              1.0  \n",
              "7              1.0  \n",
              "8              0.0  \n",
              "9              0.0  \n",
              "10             0.0  \n",
              "11             0.0  \n",
              "12             0.0  \n",
              "13             0.0  \n",
              "14             1.0  \n",
              "15             0.0  \n",
              "16             1.0  \n",
              "17             0.0  \n",
              "18             0.0  \n",
              "19             0.0  "
            ]
          },
          "execution_count": 127,
          "metadata": {},
          "output_type": "execute_result"
        }
      ],
      "source": [
        "df_preds1=pd.DataFrame(predictions,columns=['Predicted Class-'+str(i) for i in range(1,5)])\n",
        "df_preds2=pd.DataFrame(y_test,columns=['Actual Class-'+str(i) for i in range(1,5)])\n",
        "df_preds=pd.concat([df_preds1,df_preds2],axis=1)\n",
        "df_preds.head(20)"
      ]
    },
    {
      "cell_type": "code",
      "execution_count": null,
      "metadata": {
        "id": "th74e6AruCOf",
        "outputId": "c8542819-bc73-4d89-d4b4-ac2764b19a05"
      },
      "outputs": [
        {
          "data": {
            "image/png": "[encoded data removed]",
            "text/plain": [
              "<Figure size 432x288 with 1 Axes>"
            ]
          },
          "metadata": {},
          "output_type": "display_data"
        }
      ],
      "source": [
        "plt.hist(predictions)\n",
        "plt.show()"
      ]
    },
    {
      "cell_type": "markdown",
      "metadata": {
        "id": "Do8s5DwAuCOg"
      },
      "source": [
        "### Another one!"
      ]
    },
    {
      "cell_type": "code",
      "execution_count": null,
      "metadata": {
        "id": "K-fQ4YJbuCOg",
        "outputId": "5be9912d-3645-4994-9ba2-2b1b50248ffa"
      },
      "outputs": [
        {
          "data": {
            "image/png": "[encoded data removed]",
            "text/plain": [
              "<Figure size 432x288 with 1 Axes>"
            ]
          },
          "metadata": {},
          "output_type": "display_data"
        }
      ],
      "source": [
        "test_prediction=90\n",
        "plt.imshow(X_test[test_prediction].reshape(X_test.shape[1],X_test.shape[2]),cmap='gray')\n",
        "plt.show()"
      ]
    },
    {
      "cell_type": "code",
      "execution_count": null,
      "metadata": {
        "id": "sCUYJYwQuCOg",
        "outputId": "c94d4971-5dd3-4325-f402-fe017877e795"
      },
      "outputs": [
        {
          "data": {
            "text/plain": [
              "array([1.1651203e-04, 1.9876022e-07, 3.9340550e-04, 9.9948990e-01],\n",
              "      dtype=float32)"
            ]
          },
          "execution_count": 131,
          "metadata": {},
          "output_type": "execute_result"
        }
      ],
      "source": [
        "predictions[test_prediction]"
      ]
    },
    {
      "cell_type": "code",
      "execution_count": null,
      "metadata": {
        "id": "GmiMTYVIuCOg",
        "outputId": "cfa1d390-7bdc-4e26-aea9-d66f76708749"
      },
      "outputs": [
        {
          "data": {
            "text/plain": [
              "array([0., 0., 0., 1.], dtype=float32)"
            ]
          },
          "execution_count": 132,
          "metadata": {},
          "output_type": "execute_result"
        }
      ],
      "source": [
        "y_test[test_prediction]"
      ]
    },
    {
      "cell_type": "code",
      "execution_count": null,
      "metadata": {
        "id": "un0sxj_TuCOg",
        "outputId": "5c6a0b50-c59e-43e5-e8c1-258b3e6a7dc1"
      },
      "outputs": [
        {
          "name": "stderr",
          "output_type": "stream",
          "text": [
            "c:\\programdata\\miniconda3\\lib\\site-packages\\matplotlib\\pyplot.py:2790: MatplotlibDeprecationWarning: The *bottom* kwarg to `barh` is deprecated use *y* instead. Support for *bottom* will be removed in Matplotlib 3.0\n",
            "  ret = ax.barh(*args, **kwargs)\n"
          ]
        },
        {
          "data": {
            "image/png": "[encoded data removed]",
            "text/plain": [
              "<Figure size 576x360 with 1 Axes>"
            ]
          },
          "metadata": {},
          "output_type": "display_data"
        }
      ],
      "source": [
        "plt.figure(figsize=(8,5))\n",
        "plt.barh(width=predictions[test_prediction],bottom=[1,2,3,4],edgecolor='k',color='orange',alpha=0.75,\n",
        "         tick_label=['No channel','Short-channel','Right channel','Long channel'])\n",
        "plt.grid(True)\n",
        "plt.ylabel(\"Output Classes\",fontsize=15)\n",
        "plt.title(\"Class probabilities predicted by the deep neural network\",fontsize=15)\n",
        "plt.show()"
      ]
    },
    {
      "cell_type": "code",
      "execution_count": null,
      "metadata": {
        "id": "EvJLtQQRuCOg"
      },
      "outputs": [],
      "source": []
    }
  ],
  "metadata": {
    "kernelspec": {
      "display_name": "Python 3",
      "language": "python",
      "name": "python3"
    },
    "language_info": {
      "codemirror_mode": {
        "name": "ipython",
        "version": 3
      },
      "file_extension": ".py",
      "mimetype": "text/x-python",
      "name": "python",
      "nbconvert_exporter": "python",
      "pygments_lexer": "ipython3",
      "version": "3.6.4"
    },
    "colab": {
      "provenance": [],
      "include_colab_link": true
    }
  },
  "nbformat": 4,
  "nbformat_minor": 0
}